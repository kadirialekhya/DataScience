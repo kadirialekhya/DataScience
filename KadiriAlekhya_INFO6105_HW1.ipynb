{
 "cells": [
  {
   "cell_type": "raw",
   "metadata": {},
   "source": [
    "Homework-1 INFO6105\n"
   ]
  },
  {
   "cell_type": "raw",
   "metadata": {},
   "source": [
    "1.Create Numpy Arrays:     total 15 points"
   ]
  },
  {
   "cell_type": "raw",
   "metadata": {},
   "source": [
    "Create an array of [1, 2, 3]. - 1 point"
   ]
  },
  {
   "cell_type": "code",
   "execution_count": 31,
   "metadata": {},
   "outputs": [
    {
     "name": "stdout",
     "output_type": "stream",
     "text": [
      "[1 2 3]\n"
     ]
    }
   ],
   "source": [
    "import numpy as np\n",
    "x= np.array([1,2,3])\n",
    "print(x)"
   ]
  },
  {
   "cell_type": "raw",
   "metadata": {},
   "source": [
    "Let x = [1, 2]. Convert it into an array. - 1 point"
   ]
  },
  {
   "cell_type": "code",
   "execution_count": 2,
   "metadata": {},
   "outputs": [
    {
     "name": "stdout",
     "output_type": "stream",
     "text": [
      "[1 2]\n"
     ]
    }
   ],
   "source": [
    "x= [1,2]\n",
    "arr = np.array(x)\n",
    "print(arr)"
   ]
  },
  {
   "cell_type": "raw",
   "metadata": {},
   "source": [
    "Create an 2D array with shape of (3,2), filled with ones. - 1 point"
   ]
  },
  {
   "cell_type": "code",
   "execution_count": 3,
   "metadata": {},
   "outputs": [
    {
     "data": {
      "text/plain": [
       "array([[1., 1.],\n",
       "       [1., 1.],\n",
       "       [1., 1.]])"
      ]
     },
     "execution_count": 3,
     "metadata": {},
     "output_type": "execute_result"
    }
   ],
   "source": [
    "np.ones((3,2),dtype=float)"
   ]
  },
  {
   "cell_type": "raw",
   "metadata": {},
   "source": [
    "Create a 3x3 2D array with ones on the diagonal and zeros elsewhere. - 1 point"
   ]
  },
  {
   "cell_type": "code",
   "execution_count": 13,
   "metadata": {},
   "outputs": [
    {
     "data": {
      "text/plain": [
       "array([[1, 0, 0],\n",
       "       [0, 1, 0],\n",
       "       [0, 0, 1]])"
      ]
     },
     "execution_count": 13,
     "metadata": {},
     "output_type": "execute_result"
    }
   ],
   "source": [
    "np.eye(3, dtype=int)"
   ]
  },
  {
   "cell_type": "raw",
   "metadata": {},
   "source": [
    "Create an 2D array of 2 x 5 shape, filled with 6. - 1 point"
   ]
  },
  {
   "cell_type": "code",
   "execution_count": 5,
   "metadata": {},
   "outputs": [
    {
     "data": {
      "text/plain": [
       "array([[6, 6, 6, 6, 6],\n",
       "       [6, 6, 6, 6, 6]])"
      ]
     },
     "execution_count": 5,
     "metadata": {},
     "output_type": "execute_result"
    }
   ],
   "source": [
    "np.full((2,5),6)"
   ]
  },
  {
   "cell_type": "raw",
   "metadata": {},
   "source": [
    "Create an array of 2, 4, 6, 8, ..., 98, 100. - 1 point"
   ]
  },
  {
   "cell_type": "code",
   "execution_count": 6,
   "metadata": {},
   "outputs": [
    {
     "name": "stdout",
     "output_type": "stream",
     "text": [
      "[  2   4   6   8  10  12  14  16  18  20  22  24  26  28  30  32  34  36\n",
      "  38  40  42  44  46  48  50  52  54  56  58  60  62  64  66  68  70  72\n",
      "  74  76  78  80  82  84  86  88  90  92  94  96  98 100]\n"
     ]
    }
   ],
   "source": [
    "arr1 = np.arange(2,102,2)\n",
    "print(arr1)"
   ]
  },
  {
   "cell_type": "raw",
   "metadata": {},
   "source": [
    "create (1) an array of 10 zeros; (2) an array of 10 fives. - 2 points"
   ]
  },
  {
   "cell_type": "code",
   "execution_count": 16,
   "metadata": {},
   "outputs": [
    {
     "name": "stdout",
     "output_type": "stream",
     "text": [
      "[0 0 0 0 0 0 0 0 0 0]\n",
      "[5 5 5 5 5 5 5 5 5 5]\n"
     ]
    }
   ],
   "source": [
    "arr = np.zeros(10,dtype=int)\n",
    "print(arr)\n",
    "arr1 = np.ones(10,dtype=int)*5\n",
    "print(arr1)"
   ]
  },
  {
   "cell_type": "raw",
   "metadata": {},
   "source": [
    "create an 3x3x3 array filled with arbitrary values. - 1 points"
   ]
  },
  {
   "cell_type": "code",
   "execution_count": 8,
   "metadata": {},
   "outputs": [
    {
     "name": "stdout",
     "output_type": "stream",
     "text": [
      "[[[0.01962197 0.66520474 0.24420559]\n",
      "  [0.50165867 0.5350017  0.35750323]\n",
      "  [0.0592003  0.59462668 0.10213877]]\n",
      "\n",
      " [[0.85062569 0.93330847 0.60707525]\n",
      "  [0.73952313 0.22739213 0.7480373 ]\n",
      "  [0.68331073 0.40663794 0.38370061]]\n",
      "\n",
      " [[0.61583895 0.05243793 0.55252426]\n",
      "  [0.61089548 0.88839782 0.85411936]\n",
      "  [0.95569049 0.59847688 0.41666144]]]\n"
     ]
    }
   ],
   "source": [
    "x = np.random.random((3, 3, 3))\n",
    "print(x)"
   ]
  },
  {
   "cell_type": "raw",
   "metadata": {},
   "source": [
    "create a 3x4 2D array filled with values from 10 to 21 (inclusive). - 2 points"
   ]
  },
  {
   "cell_type": "code",
   "execution_count": 10,
   "metadata": {},
   "outputs": [
    {
     "name": "stdout",
     "output_type": "stream",
     "text": [
      "[[10 11 12 13]\n",
      " [14 15 16 17]\n",
      " [18 19 20 21]]\n"
     ]
    }
   ],
   "source": [
    "x = np.arange(10,22).reshape(3,4)\n",
    "print(x)"
   ]
  },
  {
   "cell_type": "raw",
   "metadata": {},
   "source": [
    "Create a numpy array of length 10, starting from 5 and has a step of 3 between consecutive numbers - 4 points"
   ]
  },
  {
   "cell_type": "code",
   "execution_count": 10,
   "metadata": {},
   "outputs": [
    {
     "data": {
      "text/plain": [
       "array([ 5,  8, 11, 14, 17, 20, 23, 26, 29, 32])"
      ]
     },
     "execution_count": 10,
     "metadata": {},
     "output_type": "execute_result"
    }
   ],
   "source": [
    "np.arange(5,35,3)"
   ]
  },
  {
   "cell_type": "raw",
   "metadata": {},
   "source": [
    "2.Operations on Numpy Arrays: total 38 points"
   ]
  },
  {
   "cell_type": "raw",
   "metadata": {},
   "source": [
    "Create an array of shape (3, 2) and populate it with random samples from a uniform\n",
    "distribution over [0, 1) and confirm you can get the same value when you run it next time.\n",
    "                   - 2 points"
   ]
  },
  {
   "cell_type": "code",
   "execution_count": 38,
   "metadata": {},
   "outputs": [
    {
     "data": {
      "text/plain": [
       "array([[0.5488135 , 0.71518937],\n",
       "       [0.60276338, 0.54488318],\n",
       "       [0.4236548 , 0.64589411]])"
      ]
     },
     "execution_count": 38,
     "metadata": {},
     "output_type": "execute_result"
    }
   ],
   "source": [
    "import random\n",
    "np.random.seed(0)\n",
    "np.random.uniform(0,1,6).reshape(3,2)\n"
   ]
  },
  {
   "cell_type": "raw",
   "metadata": {},
   "source": [
    "Find the index of 5th repetition of number 1 in the given array x. - 4 points\n",
    "    x: [1, 2, 1, 1, 3, 4, 3, 1, 1, 2, 1, 1, 2]"
   ]
  },
  {
   "cell_type": "code",
   "execution_count": 12,
   "metadata": {},
   "outputs": [
    {
     "data": {
      "text/plain": [
       "8"
      ]
     },
     "execution_count": 12,
     "metadata": {},
     "output_type": "execute_result"
    }
   ],
   "source": [
    "rep=np.array([1, 2, 1, 1, 3, 4, 3, 1, 1, 2, 1, 1, 2])\n",
    "np.where(rep==1)[0][5-1]"
   ]
  },
  {
   "cell_type": "raw",
   "metadata": {},
   "source": [
    "Let x be an array [1, 2, 3, ..., 9]. Split x into 3 arrays, each of which has 4, 2, and 3\n",
    "elements in the original order. - 2 points"
   ]
  },
  {
   "cell_type": "code",
   "execution_count": 17,
   "metadata": {},
   "outputs": [
    {
     "name": "stdout",
     "output_type": "stream",
     "text": [
      "Original array: [1 2 3 4 5 6 7 8 9]\n",
      "After splitting:\n",
      "[array([1, 2, 3, 4]), array([5, 6]), array([7, 8, 9])]\n"
     ]
    }
   ],
   "source": [
    "x = np.arange(1, 10)\n",
    "print(\"Original array:\",x)\n",
    "print(\"After splitting:\")\n",
    "print(np.split(x, [4, 6]))"
   ]
  },
  {
   "cell_type": "raw",
   "metadata": {},
   "source": [
    "Given an array - 2 points\n",
    "    [[ 0., 1., 2., 3.], [ 4., 5., 6., 7.], [ 8., 9., 10., 11.], [ 12., 13., 14., 15.]].\n",
    "    Use np.split to split the array into left and right halves."
   ]
  },
  {
   "cell_type": "code",
   "execution_count": 43,
   "metadata": {},
   "outputs": [
    {
     "name": "stdout",
     "output_type": "stream",
     "text": [
      "[array([[0., 1., 2., 3.],\n",
      "       [4., 5., 6., 7.]]), array([[ 8.,  9., 10., 11.],\n",
      "       [12., 13., 14., 15.]])]\n"
     ]
    }
   ],
   "source": [
    "x = [[ 0., 1., 2., 3.], [ 4., 5., 6., 7.], [ 8., 9., 10., 11.], [ 12., 13., 14., 15.]]\n",
    "x=np.array(x)\n",
    "array1=np.split(x,2)\n",
    "print(array1)"
   ]
  },
  {
   "cell_type": "raw",
   "metadata": {},
   "source": [
    "Given an 2D array: [[5,10,15], [20,25,30], [35,40,45]] – 4 points\n",
    "    (1) Slicing to get the sub-array [[10,15], [25,30]]\n",
    "    (2) Getting individual element value \"20\""
   ]
  },
  {
   "cell_type": "code",
   "execution_count": 15,
   "metadata": {},
   "outputs": [
    {
     "name": "stdout",
     "output_type": "stream",
     "text": [
      "[[ 5 10 15]\n",
      " [20 25 30]\n",
      " [35 40 45]]\n",
      "[[10 15]\n",
      " [25 30]]\n",
      "20\n"
     ]
    }
   ],
   "source": [
    "x = np.array([[5,10,15],[20,25,30],[35,40,45]])\n",
    "print(x)\n",
    "print(x[0:2,1:])\n",
    "print(x[1,0])"
   ]
  },
  {
   "cell_type": "raw",
   "metadata": {},
   "source": [
    "- 2 points:  Let x be an array [[ 1 2 3] [ 4 5 6]]. and y be an array [[ 7 8 9] [10 11 12]].\n",
    "  Concatenate x and y so that a new array looks like\n",
    "      [[1, 2, 3, 7, 8, 9],\n",
    "        [4, 5, 6, 10, 11, 12]]."
   ]
  },
  {
   "cell_type": "code",
   "execution_count": 16,
   "metadata": {},
   "outputs": [
    {
     "name": "stdout",
     "output_type": "stream",
     "text": [
      "[[ 1  2  3  7  8  9]\n",
      " [ 4  5  6 10 11 12]]\n"
     ]
    }
   ],
   "source": [
    "x = np.array([[ 1,2,3],[ 4,5,6]])\n",
    "y = np.array([[ 1,2,3],[ 4,5,6]])\n",
    "print(np.concatenate((x,y+6),axis=1))"
   ]
  },
  {
   "cell_type": "raw",
   "metadata": {},
   "source": [
    "Compute the min/max (min is divided by max) for each row for given 2d numpy array, in which integer values range from 1 to 10 and shape is (5,3). - 6 points\n",
    "      Require: the random seed is required to be 100."
   ]
  },
  {
   "cell_type": "code",
   "execution_count": 40,
   "metadata": {},
   "outputs": [
    {
     "name": "stdout",
     "output_type": "stream",
     "text": [
      "Array:\n",
      " [[5 4 1]\n",
      " [4 6 1]\n",
      " [3 4 9]\n",
      " [2 4 4]\n",
      " [4 8 1]]\n",
      "Min/max:  [0.2        0.16666667 0.33333333 0.5        0.125     ]\n"
     ]
    }
   ],
   "source": [
    "import random\n",
    "random.seed(100)\n",
    "array= np.random.randint(1,11,(5,3))\n",
    "print(\"Array:\\n\",array)\n",
    "print(\"Min/max: \",array.min(axis=1)/array.max(axis=1))"
   ]
  },
  {
   "cell_type": "raw",
   "metadata": {},
   "source": [
    "Convert 3 arrays into a flat linear 1d array. - 2 points\n",
    "     arr1: 0,1,2\n",
    "     arr2: 3,4,5,6\n",
    "     arr3: 7,8,9\n",
    "     Generate the 3 arrays by numpy arange()\n",
    "     Desired Output: array([0, 1, 2, 3, 4, 5, 6, 7, 8, 9])"
   ]
  },
  {
   "cell_type": "code",
   "execution_count": 18,
   "metadata": {},
   "outputs": [
    {
     "data": {
      "text/plain": [
       "array([0, 1, 2, 3, 4, 5, 6, 7, 8, 9])"
      ]
     },
     "execution_count": 18,
     "metadata": {},
     "output_type": "execute_result"
    }
   ],
   "source": [
    "arr1=np.arange(0,3)\n",
    "arr2=np.arange(3,7)\n",
    "arr3=np.arange(7,10)\n",
    "np.concatenate([arr1,arr2,arr3])"
   ]
  },
  {
   "cell_type": "raw",
   "metadata": {},
   "source": [
    "Get all items between 5 and 10 from a. - 4 points\n",
    "    [2, 6, 1, 9, 10, 3, 27]"
   ]
  },
  {
   "cell_type": "code",
   "execution_count": 36,
   "metadata": {},
   "outputs": [
    {
     "name": "stdout",
     "output_type": "stream",
     "text": [
      "6\n",
      "9\n",
      "10\n"
     ]
    }
   ],
   "source": [
    "a=np.array([2, 6, 1, 9, 10, 3, 27])\n",
    "for x in a:\n",
    "    if((x >= 5) & (x <= 10)):\n",
    "        print(x)"
   ]
  },
  {
   "cell_type": "raw",
   "metadata": {},
   "source": [
    "Get the positions where elements of a and b match. -2 points\n",
    "    a: [1,2,3,2,3,4,3,4,5,6]\n",
    "    b: [7,2,10,2,7,4,9,4,9,8]"
   ]
  },
  {
   "cell_type": "code",
   "execution_count": 20,
   "metadata": {},
   "outputs": [
    {
     "data": {
      "text/plain": [
       "array([1, 3, 5, 7])"
      ]
     },
     "execution_count": 20,
     "metadata": {},
     "output_type": "execute_result"
    }
   ],
   "source": [
    "a=np.array([1,2,3,2,3,4,3,4,5,6])\n",
    "b= np.array([7,2,10,2,7,4,9,4,9,8])\n",
    "np.arange(len(a))[a==b]"
   ]
  },
  {
   "cell_type": "raw",
   "metadata": {},
   "source": [
    "Replace all odd numbers in arr with -1 without changing arr: - 4 points\n",
    "    arr: ([0, 1, 2, 3, 4, 5, 6, 7, 8, 9])"
   ]
  },
  {
   "cell_type": "code",
   "execution_count": 21,
   "metadata": {},
   "outputs": [
    {
     "name": "stdout",
     "output_type": "stream",
     "text": [
      "[ 0 -1  2 -1  4 -1  6 -1  8 -1]\n"
     ]
    }
   ],
   "source": [
    "a= np.array([0, 1, 2, 3, 4, 5, 6, 7, 8, 9])\n",
    "a[np.where(a%2==1)] =-1\n",
    "print(a)"
   ]
  },
  {
   "cell_type": "raw",
   "metadata": {},
   "source": [
    "Stack the arrays a and then b horizontally in order. - 4 points\n",
    "    a is a 2x5 array with values from 0-9;\n",
    "    b is a 2x5 array with the values are 1 uniformly."
   ]
  },
  {
   "cell_type": "code",
   "execution_count": 8,
   "metadata": {},
   "outputs": [
    {
     "name": "stdout",
     "output_type": "stream",
     "text": [
      "[[0 1 2 3 4]\n",
      " [5 6 7 8 9]]\n",
      "[[1 1 1 1 1]\n",
      " [1 1 1 1 1]]\n",
      "[[0 1 2 3 4 1 1 1 1 1]\n",
      " [5 6 7 8 9 1 1 1 1 1]]\n"
     ]
    }
   ],
   "source": [
    "a= np.arange(0,10).reshape((2,5))\n",
    "print(a)\n",
    "b=np.ones((2,5),dtype=int)\n",
    "print(b)\n",
    "out_array=np.hstack((a,b))\n",
    "print(out_array)"
   ]
  },
  {
   "cell_type": "raw",
   "metadata": {},
   "source": [
    "3.Indexing and Slicing: total 24 points\n",
    "    1.Given a 1d array: [ 3, 6, 9, 25, 10, 8] - 6 points\n",
    "          (1) To get all elements except the first:"
   ]
  },
  {
   "cell_type": "code",
   "execution_count": 22,
   "metadata": {},
   "outputs": [
    {
     "name": "stdout",
     "output_type": "stream",
     "text": [
      "[ 6  9 25 10  8]\n"
     ]
    }
   ],
   "source": [
    "x = np.array([ 3,  6,  9,  25, 10,  8])\n",
    "print(x[1:])"
   ]
  },
  {
   "cell_type": "raw",
   "metadata": {},
   "source": [
    " (2) To get all elements except the last:"
   ]
  },
  {
   "cell_type": "code",
   "execution_count": 23,
   "metadata": {},
   "outputs": [
    {
     "name": "stdout",
     "output_type": "stream",
     "text": [
      "[ 3  6  9 25 10]\n"
     ]
    }
   ],
   "source": [
    "print(x[:-1])"
   ]
  },
  {
   "cell_type": "raw",
   "metadata": {},
   "source": [
    "(3) To get every other element of the array (operation from the first element):"
   ]
  },
  {
   "cell_type": "code",
   "execution_count": 35,
   "metadata": {},
   "outputs": [
    {
     "name": "stdout",
     "output_type": "stream",
     "text": [
      "[ 3  9 10]\n"
     ]
    }
   ],
   "source": [
    "print(x[::2])"
   ]
  },
  {
   "cell_type": "raw",
   "metadata": {},
   "source": [
    " (4) To get every element of the array except the first element:"
   ]
  },
  {
   "cell_type": "code",
   "execution_count": 36,
   "metadata": {},
   "outputs": [
    {
     "name": "stdout",
     "output_type": "stream",
     "text": [
      "[ 6  9 25 10  8]\n"
     ]
    }
   ],
   "source": [
    "print(x[1:])"
   ]
  },
  {
   "cell_type": "raw",
   "metadata": {},
   "source": [
    "    (5) To reverse the array:"
   ]
  },
  {
   "cell_type": "code",
   "execution_count": 37,
   "metadata": {},
   "outputs": [
    {
     "name": "stdout",
     "output_type": "stream",
     "text": [
      "[ 8 10 25  9  6  3]\n"
     ]
    }
   ],
   "source": [
    "print(x[::-1])"
   ]
  },
  {
   "cell_type": "raw",
   "metadata": {},
   "source": [
    " 2) Multidimensional Arrays: 8 points\n",
    "   "
   ]
  },
  {
   "cell_type": "raw",
   "metadata": {},
   "source": [
    "(1) create an array with the components as 0-31 and the shape is (8,4). - 2 points"
   ]
  },
  {
   "cell_type": "code",
   "execution_count": 25,
   "metadata": {},
   "outputs": [
    {
     "name": "stdout",
     "output_type": "stream",
     "text": [
      "[[ 0  1  2  3]\n",
      " [ 4  5  6  7]\n",
      " [ 8  9 10 11]\n",
      " [12 13 14 15]\n",
      " [16 17 18 19]\n",
      " [20 21 22 23]\n",
      " [24 25 26 27]\n",
      " [28 29 30 31]]\n"
     ]
    }
   ],
   "source": [
    "x = np.arange(0,32).reshape(8,4)\n",
    "print(x)"
   ]
  },
  {
   "cell_type": "raw",
   "metadata": {},
   "source": [
    "   (2) set the 3rd element in the 1st row to 0. - 2 points"
   ]
  },
  {
   "cell_type": "code",
   "execution_count": 39,
   "metadata": {},
   "outputs": [
    {
     "name": "stdout",
     "output_type": "stream",
     "text": [
      "[[ 0  1  0  3]\n",
      " [ 4  5  6  7]\n",
      " [ 8  9 10 11]\n",
      " [12 13 14 15]\n",
      " [16 17 18 19]\n",
      " [20 21 22 23]\n",
      " [24 25 26 27]\n",
      " [28 29 30 31]]\n"
     ]
    }
   ],
   "source": [
    "x[0][2] = \"0\";\n",
    "print(x)"
   ]
  },
  {
   "cell_type": "raw",
   "metadata": {},
   "source": [
    "(3) the second column. - 2 points"
   ]
  },
  {
   "cell_type": "code",
   "execution_count": 40,
   "metadata": {},
   "outputs": [
    {
     "name": "stdout",
     "output_type": "stream",
     "text": [
      "[ 1  5  9 13 17 21 25 29]\n"
     ]
    }
   ],
   "source": [
    "print(x[:,1])"
   ]
  },
  {
   "cell_type": "raw",
   "metadata": {},
   "source": [
    "  (4) Get the 3x3 region from the array: - 2 points\n",
    "             ([ 9, 10, 11],\n",
    "              [13, 14, 15],\n",
    "              [17, 18, 19]])"
   ]
  },
  {
   "cell_type": "code",
   "execution_count": 26,
   "metadata": {},
   "outputs": [
    {
     "name": "stdout",
     "output_type": "stream",
     "text": [
      "[[ 9 10 11]\n",
      " [13 14 15]\n",
      " [17 18 19]]\n"
     ]
    }
   ],
   "source": [
    "print(x[2:5,1:4])"
   ]
  },
  {
   "cell_type": "raw",
   "metadata": {},
   "source": [
    "3) Create an 4x4 matrix in which 0 and 1 are staggered, with zeros on the main diagonal. Please use the numpy \"slicing\" method to realize. - 6 points\n",
    "             [[0. 1. 0. 1.]\n",
    "              [1. 0. 1. 0.]\n",
    "              [0. 1. 0. 1.]\n",
    "              [1. 0. 1. 0.]]\n",
    "\n",
    "      If students use other methods to get the same result, TA only can give half of the points."
   ]
  },
  {
   "cell_type": "code",
   "execution_count": 43,
   "metadata": {},
   "outputs": [
    {
     "name": "stdout",
     "output_type": "stream",
     "text": [
      "[[0. 1. 0. 1.]\n",
      " [1. 0. 1. 0.]\n",
      " [0. 1. 0. 1.]\n",
      " [1. 0. 1. 0.]]\n"
     ]
    }
   ],
   "source": [
    "x = np.zeros((4, 4))\n",
    "x[::2, 1::2] = 1\n",
    "x[1::2, ::2] = 1\n",
    "print(x)"
   ]
  },
  {
   "cell_type": "raw",
   "metadata": {},
   "source": [
    "   4) Subtract the 1d array b_1d from the 2d array a_2d, such that each item of b_1d subtracts from respective row of a_2d. - 4 points\n",
    "        a_2d : [[3,3,3],[4,4,4],[5,5,5]]\n",
    "        b_1d : [1,1,1]\n",
    "        Desired Output: [[2 2 2] [2 2 2] [2 2 2]]"
   ]
  },
  {
   "cell_type": "code",
   "execution_count": 45,
   "metadata": {},
   "outputs": [
    {
     "name": "stdout",
     "output_type": "stream",
     "text": [
      "[[2 2 2]\n",
      " [2 2 2]\n",
      " [2 2 2]]\n"
     ]
    }
   ],
   "source": [
    "a_2d=np.array([[3,3,3],[4,4,4],[5,5,5]])\n",
    "b_1d=np.array( [1,2,3])\n",
    "print(a_2d - b_1d[:,None])"
   ]
  },
  {
   "cell_type": "raw",
   "metadata": {},
   "source": [
    "4.Create a random array with 1000 elements and compute the average, variance, standard deviation of the array elements. - 7 points\n",
    "And print the formatted outputs which keep 5 digits after the decimal point. Require: set the random seed as 100."
   ]
  },
  {
   "cell_type": "code",
   "execution_count": 46,
   "metadata": {},
   "outputs": [
    {
     "name": "stdout",
     "output_type": "stream",
     "text": [
      "Average of the array elements:\n",
      "-0.011421884637893434\n",
      "Standard deviation of the array elements:\n",
      "0.9687\n",
      "Variance of the array elements:\n",
      "0.93838\n"
     ]
    }
   ],
   "source": [
    "x = np.random.randn(1000)\n",
    "print(\"Average of the array elements:\")\n",
    "mean = round(x.mean(),5)\n",
    "print(mean)\n",
    "print(\"Standard deviation of the array elements:\")\n",
    "std = round(x.std(),5)\n",
    "print(std)\n",
    "print(\"Variance of the array elements:\")\n",
    "var = round(x.var(),5)\n",
    "print(var)"
   ]
  },
  {
   "cell_type": "code",
   "execution_count": null,
   "metadata": {},
   "outputs": [],
   "source": []
  },
  {
   "cell_type": "raw",
   "metadata": {},
   "source": [
    "5.Write a 6x6 times table matrix: total 8 points\n",
    "- by using numpy broadcasting (4 points)\n",
    "- by using Python nested for-loop (4 points).\n",
    "     Desired output:\n",
    "        array([[ 1, 2, 3, 4, 5, 6],\n",
    "                   [ 2, 4, 6, 8, 10, 12],\n",
    "                   [ 3, 6, 9, 12, 15, 18],\n",
    "                   [ 4, 8, 12, 16, 20, 24],\n",
    "                   [ 5, 10, 15, 20, 25, 30],\n",
    "                   [ 6, 12, 18, 24, 30, 36]])"
   ]
  },
  {
   "cell_type": "code",
   "execution_count": 47,
   "metadata": {},
   "outputs": [
    {
     "data": {
      "text/plain": [
       "array([[ 1,  2,  3,  4,  5,  6],\n",
       "       [ 2,  4,  6,  8, 10, 12],\n",
       "       [ 3,  6,  9, 12, 15, 18],\n",
       "       [ 4,  8, 12, 16, 20, 24],\n",
       "       [ 5, 10, 15, 20, 25, 30],\n",
       "       [ 6, 12, 18, 24, 30, 36]])"
      ]
     },
     "execution_count": 47,
     "metadata": {},
     "output_type": "execute_result"
    }
   ],
   "source": [
    "a = np.arange(1,7)\n",
    "b = np.arange(1,7).reshape(6,1)\n",
    "a*b"
   ]
  },
  {
   "cell_type": "code",
   "execution_count": 41,
   "metadata": {},
   "outputs": [
    {
     "name": "stdout",
     "output_type": "stream",
     "text": [
      "[[ 1.  2.  3.  4.  5.  6.]\n",
      " [ 2.  4.  6.  8. 10. 12.]\n",
      " [ 3.  6.  9. 12. 15. 18.]\n",
      " [ 4.  8. 12. 16. 20. 24.]\n",
      " [ 5. 10. 15. 20. 25. 30.]\n",
      " [ 6. 12. 18. 24. 30. 36.]]\n"
     ]
    }
   ],
   "source": [
    "import numpy as np\n",
    "a=np.ones((6,6))\n",
    "b=np.array([1,2,3,4,5,6])\n",
    "for i in range(6):\n",
    "    for j in range(6):\n",
    "        a[i,j]=a[i,j]*b[i]*b[j]\n",
    "print(a)"
   ]
  },
  {
   "cell_type": "raw",
   "metadata": {},
   "source": [
    "6.Broadcasting in Practice: Centering an array: 8 points\n",
    "Imagine you have an array of 10 observations, each of which consists of 3 values(floating-point numbers). Store this in an array with the shape(10, 3). Seed is set as 100. - 2 points\n",
    "Compute the mean of each feature using the mean aggregate across the first dimension; - 2 points\n",
    "Center the X array by subtracting the mean; - 2 points\n",
    "Double-check the correctness of the centralization using the mean aggregate again (check that the centered array has near zero mean). - 2 points"
   ]
  },
  {
   "cell_type": "code",
   "execution_count": 8,
   "metadata": {},
   "outputs": [
    {
     "name": "stdout",
     "output_type": "stream",
     "text": [
      "[[0.43758721 0.891773   0.96366276]\n",
      " [0.38344152 0.79172504 0.52889492]\n",
      " [0.56804456 0.92559664 0.07103606]\n",
      " [0.0871293  0.0202184  0.83261985]\n",
      " [0.77815675 0.87001215 0.97861834]\n",
      " [0.79915856 0.46147936 0.78052918]\n",
      " [0.11827443 0.63992102 0.14335329]\n",
      " [0.94466892 0.52184832 0.41466194]\n",
      " [0.26455561 0.77423369 0.45615033]\n",
      " [0.56843395 0.0187898  0.6176355 ]]\n"
     ]
    }
   ],
   "source": [
    "import random\n",
    "random.seed(100)\n",
    "x = np.random.rand(10,3)\n",
    "print(x)"
   ]
  },
  {
   "cell_type": "code",
   "execution_count": 9,
   "metadata": {},
   "outputs": [
    {
     "name": "stdout",
     "output_type": "stream",
     "text": [
      "[0.49494508 0.59155974 0.57871622]\n"
     ]
    }
   ],
   "source": [
    "y = np.mean(x,axis=0)\n",
    "print(y)"
   ]
  },
  {
   "cell_type": "code",
   "execution_count": 10,
   "metadata": {},
   "outputs": [
    {
     "name": "stdout",
     "output_type": "stream",
     "text": [
      "[[-0.05735787  0.30021326  0.38494654]\n",
      " [-0.11150356  0.2001653  -0.0498213 ]\n",
      " [ 0.07309948  0.3340369  -0.50768016]\n",
      " [-0.40781578 -0.57134134  0.25390363]\n",
      " [ 0.28321167  0.27845241  0.39990213]\n",
      " [ 0.30421348 -0.13008038  0.20181296]\n",
      " [-0.37667066  0.04836128 -0.43536293]\n",
      " [ 0.44972384 -0.06971142 -0.16405428]\n",
      " [-0.23038947  0.18267395 -0.12256588]\n",
      " [ 0.07348887 -0.57276994  0.03891928]]\n"
     ]
    }
   ],
   "source": [
    "z = x-y\n",
    "print(z)"
   ]
  },
  {
   "cell_type": "code",
   "execution_count": 11,
   "metadata": {},
   "outputs": [
    {
     "name": "stdout",
     "output_type": "stream",
     "text": [
      "1.4802973661668754e-17\n"
     ]
    }
   ],
   "source": [
    "print(np.mean(z))"
   ]
  }
 ],
 "metadata": {
  "kernelspec": {
   "display_name": "Python 3",
   "language": "python",
   "name": "python3"
  },
  "language_info": {
   "codemirror_mode": {
    "name": "ipython",
    "version": 3
   },
   "file_extension": ".py",
   "mimetype": "text/x-python",
   "name": "python",
   "nbconvert_exporter": "python",
   "pygments_lexer": "ipython3",
   "version": "3.8.5"
  }
 },
 "nbformat": 4,
 "nbformat_minor": 4
}
